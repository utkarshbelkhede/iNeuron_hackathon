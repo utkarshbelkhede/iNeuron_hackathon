{
 "cells": [
  {
   "cell_type": "markdown",
   "id": "69cb34a1",
   "metadata": {},
   "source": [
    "### Importing required libraries"
   ]
  },
  {
   "cell_type": "code",
   "execution_count": 1,
   "id": "55bb7aa1",
   "metadata": {},
   "outputs": [],
   "source": [
    "import numpy as np\n",
    "import pandas as pd\n",
    "import seaborn as sns\n",
    "import matplotlib.pyplot as plt"
   ]
  },
  {
   "cell_type": "markdown",
   "id": "b5c50825",
   "metadata": {},
   "source": [
    "### Loading dataset into DataFrame"
   ]
  },
  {
   "cell_type": "code",
   "execution_count": 2,
   "id": "d5b3dab8",
   "metadata": {},
   "outputs": [
    {
     "data": {
      "text/html": [
       "<div>\n",
       "<style scoped>\n",
       "    .dataframe tbody tr th:only-of-type {\n",
       "        vertical-align: middle;\n",
       "    }\n",
       "\n",
       "    .dataframe tbody tr th {\n",
       "        vertical-align: top;\n",
       "    }\n",
       "\n",
       "    .dataframe thead th {\n",
       "        text-align: right;\n",
       "    }\n",
       "</style>\n",
       "<table border=\"1\" class=\"dataframe\">\n",
       "  <thead>\n",
       "    <tr style=\"text-align: right;\">\n",
       "      <th></th>\n",
       "      <th>age</th>\n",
       "      <th>workclass</th>\n",
       "      <th>fnlwgt</th>\n",
       "      <th>education</th>\n",
       "      <th>education-num</th>\n",
       "      <th>marital-status</th>\n",
       "      <th>occupation</th>\n",
       "      <th>relationship</th>\n",
       "      <th>race</th>\n",
       "      <th>sex</th>\n",
       "      <th>capital-gain</th>\n",
       "      <th>capital-loss</th>\n",
       "      <th>hours-per-week</th>\n",
       "      <th>country</th>\n",
       "      <th>salary</th>\n",
       "    </tr>\n",
       "  </thead>\n",
       "  <tbody>\n",
       "    <tr>\n",
       "      <th>0</th>\n",
       "      <td>39</td>\n",
       "      <td>State-gov</td>\n",
       "      <td>77516</td>\n",
       "      <td>Bachelors</td>\n",
       "      <td>13</td>\n",
       "      <td>Never-married</td>\n",
       "      <td>Adm-clerical</td>\n",
       "      <td>Not-in-family</td>\n",
       "      <td>White</td>\n",
       "      <td>Male</td>\n",
       "      <td>2174</td>\n",
       "      <td>0</td>\n",
       "      <td>40</td>\n",
       "      <td>United-States</td>\n",
       "      <td>&lt;=50K</td>\n",
       "    </tr>\n",
       "    <tr>\n",
       "      <th>1</th>\n",
       "      <td>50</td>\n",
       "      <td>Self-emp-not-inc</td>\n",
       "      <td>83311</td>\n",
       "      <td>Bachelors</td>\n",
       "      <td>13</td>\n",
       "      <td>Married-civ-spouse</td>\n",
       "      <td>Exec-managerial</td>\n",
       "      <td>Husband</td>\n",
       "      <td>White</td>\n",
       "      <td>Male</td>\n",
       "      <td>0</td>\n",
       "      <td>0</td>\n",
       "      <td>13</td>\n",
       "      <td>United-States</td>\n",
       "      <td>&lt;=50K</td>\n",
       "    </tr>\n",
       "    <tr>\n",
       "      <th>2</th>\n",
       "      <td>38</td>\n",
       "      <td>Private</td>\n",
       "      <td>215646</td>\n",
       "      <td>HS-grad</td>\n",
       "      <td>9</td>\n",
       "      <td>Divorced</td>\n",
       "      <td>Handlers-cleaners</td>\n",
       "      <td>Not-in-family</td>\n",
       "      <td>White</td>\n",
       "      <td>Male</td>\n",
       "      <td>0</td>\n",
       "      <td>0</td>\n",
       "      <td>40</td>\n",
       "      <td>United-States</td>\n",
       "      <td>&lt;=50K</td>\n",
       "    </tr>\n",
       "    <tr>\n",
       "      <th>3</th>\n",
       "      <td>53</td>\n",
       "      <td>Private</td>\n",
       "      <td>234721</td>\n",
       "      <td>11th</td>\n",
       "      <td>7</td>\n",
       "      <td>Married-civ-spouse</td>\n",
       "      <td>Handlers-cleaners</td>\n",
       "      <td>Husband</td>\n",
       "      <td>Black</td>\n",
       "      <td>Male</td>\n",
       "      <td>0</td>\n",
       "      <td>0</td>\n",
       "      <td>40</td>\n",
       "      <td>United-States</td>\n",
       "      <td>&lt;=50K</td>\n",
       "    </tr>\n",
       "    <tr>\n",
       "      <th>4</th>\n",
       "      <td>28</td>\n",
       "      <td>Private</td>\n",
       "      <td>338409</td>\n",
       "      <td>Bachelors</td>\n",
       "      <td>13</td>\n",
       "      <td>Married-civ-spouse</td>\n",
       "      <td>Prof-specialty</td>\n",
       "      <td>Wife</td>\n",
       "      <td>Black</td>\n",
       "      <td>Female</td>\n",
       "      <td>0</td>\n",
       "      <td>0</td>\n",
       "      <td>40</td>\n",
       "      <td>Cuba</td>\n",
       "      <td>&lt;=50K</td>\n",
       "    </tr>\n",
       "  </tbody>\n",
       "</table>\n",
       "</div>"
      ],
      "text/plain": [
       "   age          workclass  fnlwgt   education  education-num  \\\n",
       "0   39          State-gov   77516   Bachelors             13   \n",
       "1   50   Self-emp-not-inc   83311   Bachelors             13   \n",
       "2   38            Private  215646     HS-grad              9   \n",
       "3   53            Private  234721        11th              7   \n",
       "4   28            Private  338409   Bachelors             13   \n",
       "\n",
       "        marital-status          occupation    relationship    race      sex  \\\n",
       "0        Never-married        Adm-clerical   Not-in-family   White     Male   \n",
       "1   Married-civ-spouse     Exec-managerial         Husband   White     Male   \n",
       "2             Divorced   Handlers-cleaners   Not-in-family   White     Male   \n",
       "3   Married-civ-spouse   Handlers-cleaners         Husband   Black     Male   \n",
       "4   Married-civ-spouse      Prof-specialty            Wife   Black   Female   \n",
       "\n",
       "   capital-gain  capital-loss  hours-per-week         country  salary  \n",
       "0          2174             0              40   United-States   <=50K  \n",
       "1             0             0              13   United-States   <=50K  \n",
       "2             0             0              40   United-States   <=50K  \n",
       "3             0             0              40   United-States   <=50K  \n",
       "4             0             0              40            Cuba   <=50K  "
      ]
     },
     "execution_count": 2,
     "metadata": {},
     "output_type": "execute_result"
    }
   ],
   "source": [
    "adult = pd.read_csv(\"adult.csv\")\n",
    "adult.head()"
   ]
  },
  {
   "cell_type": "code",
   "execution_count": 3,
   "id": "5c372395",
   "metadata": {},
   "outputs": [
    {
     "name": "stdout",
     "output_type": "stream",
     "text": [
      "The above Adult Dataset has \u001b[1m 32561 rows\u001b[0m and \u001b[1m15 columns \u001b[0m.\n"
     ]
    }
   ],
   "source": [
    "rows = adult.shape[0]\n",
    "cols = adult.shape[1]\n",
    "\n",
    "print(f\"The above Adult Dataset has \\033[1m {rows} rows\\033[0m and \\033[1m{cols} columns \\033[0m.\")"
   ]
  },
  {
   "cell_type": "markdown",
   "id": "bd8ebaab",
   "metadata": {},
   "source": [
    "### Info for Adult Dataset"
   ]
  },
  {
   "cell_type": "code",
   "execution_count": 4,
   "id": "f162be6a",
   "metadata": {},
   "outputs": [
    {
     "name": "stdout",
     "output_type": "stream",
     "text": [
      "<class 'pandas.core.frame.DataFrame'>\n",
      "RangeIndex: 32561 entries, 0 to 32560\n",
      "Data columns (total 15 columns):\n",
      " #   Column          Non-Null Count  Dtype \n",
      "---  ------          --------------  ----- \n",
      " 0   age             32561 non-null  int64 \n",
      " 1   workclass       32561 non-null  object\n",
      " 2   fnlwgt          32561 non-null  int64 \n",
      " 3   education       32561 non-null  object\n",
      " 4   education-num   32561 non-null  int64 \n",
      " 5   marital-status  32561 non-null  object\n",
      " 6   occupation      32561 non-null  object\n",
      " 7   relationship    32561 non-null  object\n",
      " 8   race            32561 non-null  object\n",
      " 9   sex             32561 non-null  object\n",
      " 10  capital-gain    32561 non-null  int64 \n",
      " 11  capital-loss    32561 non-null  int64 \n",
      " 12  hours-per-week  32561 non-null  int64 \n",
      " 13  country         32561 non-null  object\n",
      " 14  salary          32561 non-null  object\n",
      "dtypes: int64(6), object(9)\n",
      "memory usage: 3.7+ MB\n"
     ]
    }
   ],
   "source": [
    "adult.info()"
   ]
  },
  {
   "cell_type": "markdown",
   "id": "6fb890cc",
   "metadata": {},
   "source": [
    "### Finding missing values"
   ]
  },
  {
   "cell_type": "code",
   "execution_count": 5,
   "id": "119e9642",
   "metadata": {},
   "outputs": [
    {
     "data": {
      "text/plain": [
       "[]"
      ]
     },
     "execution_count": 5,
     "metadata": {},
     "output_type": "execute_result"
    }
   ],
   "source": [
    "missing_values = [[features,adult[features].isna().sum()] for features in adult.columns if adult[features].isna().sum() > 0]\n",
    "missing_values"
   ]
  },
  {
   "cell_type": "markdown",
   "id": "cb6e5aa7",
   "metadata": {},
   "source": [
    "### Observation\n",
    "\n",
    "There are **N0** missing values."
   ]
  },
  {
   "cell_type": "markdown",
   "id": "ae81f1cc",
   "metadata": {},
   "source": [
    "### Duplicate Values"
   ]
  },
  {
   "cell_type": "code",
   "execution_count": 6,
   "id": "02baae7c",
   "metadata": {},
   "outputs": [
    {
     "name": "stdout",
     "output_type": "stream",
     "text": [
      "There are \u001b[1m 24\u001b[0m duplicate rows.\n"
     ]
    }
   ],
   "source": [
    "print(f\"There are \\033[1m {adult.duplicated().sum()}\\033[0m duplicate rows.\")"
   ]
  },
  {
   "cell_type": "markdown",
   "id": "11dece5a",
   "metadata": {},
   "source": [
    "### Dropping Duplicates"
   ]
  },
  {
   "cell_type": "code",
   "execution_count": 7,
   "id": "600f7516",
   "metadata": {},
   "outputs": [],
   "source": [
    "adult.drop_duplicates(inplace=True)"
   ]
  },
  {
   "cell_type": "code",
   "execution_count": 8,
   "id": "47c54765",
   "metadata": {},
   "outputs": [
    {
     "name": "stdout",
     "output_type": "stream",
     "text": [
      "New shape of Adult Dataset has \u001b[1m 32537 rows\u001b[0m and \u001b[1m15 columns \u001b[0m.\n"
     ]
    }
   ],
   "source": [
    "rows = adult.shape[0]\n",
    "cols = adult.shape[1]\n",
    "\n",
    "print(f\"New shape of Adult Dataset has \\033[1m {rows} rows\\033[0m and \\033[1m{cols} columns \\033[0m.\")"
   ]
  },
  {
   "cell_type": "markdown",
   "id": "35974902",
   "metadata": {},
   "source": [
    "### Checking for '?'"
   ]
  },
  {
   "cell_type": "code",
   "execution_count": 9,
   "id": "d355acba",
   "metadata": {},
   "outputs": [
    {
     "data": {
      "text/plain": [
       "age               0\n",
       "workclass         0\n",
       "fnlwgt            0\n",
       "education         0\n",
       "education-num     0\n",
       "marital-status    0\n",
       "occupation        0\n",
       "relationship      0\n",
       "race              0\n",
       "sex               0\n",
       "capital-gain      0\n",
       "capital-loss      0\n",
       "hours-per-week    0\n",
       "country           0\n",
       "salary            0\n",
       "dtype: int64"
      ]
     },
     "execution_count": 9,
     "metadata": {},
     "output_type": "execute_result"
    }
   ],
   "source": [
    "adult.isin(['?']).sum()"
   ]
  },
  {
   "cell_type": "markdown",
   "id": "9e0f9e27",
   "metadata": {},
   "source": [
    "### Columns in Adult Dataset"
   ]
  },
  {
   "cell_type": "code",
   "execution_count": 10,
   "id": "7a4aa50a",
   "metadata": {},
   "outputs": [
    {
     "name": "stdout",
     "output_type": "stream",
     "text": [
      "There are \u001b[1m 15 columns\u001b[0m in total. \n",
      "\n",
      "They are as follows,\n",
      "Column_no 1 :\u001b[1m age \u001b[0m\n",
      "Column_no 2 :\u001b[1m workclass \u001b[0m\n",
      "Column_no 3 :\u001b[1m fnlwgt \u001b[0m\n",
      "Column_no 4 :\u001b[1m education \u001b[0m\n",
      "Column_no 5 :\u001b[1m education-num \u001b[0m\n",
      "Column_no 6 :\u001b[1m marital-status \u001b[0m\n",
      "Column_no 7 :\u001b[1m occupation \u001b[0m\n",
      "Column_no 8 :\u001b[1m relationship \u001b[0m\n",
      "Column_no 9 :\u001b[1m race \u001b[0m\n",
      "Column_no 10 :\u001b[1m sex \u001b[0m\n",
      "Column_no 11 :\u001b[1m capital-gain \u001b[0m\n",
      "Column_no 12 :\u001b[1m capital-loss \u001b[0m\n",
      "Column_no 13 :\u001b[1m hours-per-week \u001b[0m\n",
      "Column_no 14 :\u001b[1m country \u001b[0m\n",
      "Column_no 15 :\u001b[1m salary \u001b[0m\n"
     ]
    }
   ],
   "source": [
    "no_of_cols = len(adult.columns)\n",
    "print(f\"There are \\033[1m {no_of_cols} columns\\033[0m in total. \\n\\nThey are as follows,\")\n",
    "\n",
    "for i in range(no_of_cols):\n",
    "    print(f\"Column_no {i+1} :\\033[1m\",adult.columns[i], \"\\033[0m\")"
   ]
  },
  {
   "cell_type": "markdown",
   "id": "c4897410",
   "metadata": {},
   "source": [
    "### Men Vs Women"
   ]
  },
  {
   "cell_type": "code",
   "execution_count": 11,
   "id": "9352ea87",
   "metadata": {},
   "outputs": [
    {
     "name": "stdout",
     "output_type": "stream",
     "text": [
      "There are \u001b[1m 21775 Mens \u001b[0m and \u001b[1m 10762 Womens \u001b[0m in the dataset.\n"
     ]
    }
   ],
   "source": [
    "no_of_men = adult.groupby('sex').size()[' Male']\n",
    "no_of_women = adult.groupby('sex').size()[' Female']\n",
    "\n",
    "print(f\"There are \\033[1m {no_of_men} Mens \\033[0m and \\033[1m {no_of_women} Womens \\033[0m in the dataset.\")"
   ]
  },
  {
   "cell_type": "code",
   "execution_count": 12,
   "id": "af9facf3",
   "metadata": {},
   "outputs": [
    {
     "data": {
      "image/png": "[encoded data removed]",
      "text/plain": [
       "<Figure size 720x576 with 1 Axes>"
      ]
     },
     "metadata": {
      "needs_background": "light"
     },
     "output_type": "display_data"
    }
   ],
   "source": [
    "plt.figure(figsize=(10,8))\n",
    "sns.countplot(y='sex', data=adult)\n",
    "plt.title(\"Male Vs Female\")\n",
    "plt.show()"
   ]
  },
  {
   "cell_type": "markdown",
   "id": "79b30aae",
   "metadata": {},
   "source": [
    "### Less than or Greater than 50K"
   ]
  },
  {
   "cell_type": "code",
   "execution_count": 13,
   "id": "f1ffec6e",
   "metadata": {},
   "outputs": [
    {
     "name": "stdout",
     "output_type": "stream",
     "text": [
      "There are \u001b[1m 24698 people more than 50K \u001b[0m and \u001b[1m 7839  people less than 50K\u001b[0m.\n"
     ]
    }
   ],
   "source": [
    "sal_greater = adult.groupby('salary').size()[' <=50K']\n",
    "sal_less = adult.groupby('salary').size()[' >50K']\n",
    "\n",
    "print(f\"There are \\033[1m {sal_greater} people more than 50K \\033[0m and \\033[1m {sal_less}  people less than 50K\\033[0m.\")"
   ]
  },
  {
   "cell_type": "code",
   "execution_count": 14,
   "id": "a245f36a",
   "metadata": {},
   "outputs": [
    {
     "data": {
      "image/png": "[encoded data removed]",
      "text/plain": [
       "<Figure size 720x576 with 1 Axes>"
      ]
     },
     "metadata": {
      "needs_background": "light"
     },
     "output_type": "display_data"
    }
   ],
   "source": [
    "plt.figure(figsize=(10,8))\n",
    "sns.countplot(y='salary', data=adult)\n",
    "plt.title(\"<=50K Vs >50K\")\n",
    "plt.show()"
   ]
  },
  {
   "cell_type": "markdown",
   "id": "c6fe1acc",
   "metadata": {},
   "source": [
    "### Converting Categorical Columns into Numerical using Label Encoder"
   ]
  },
  {
   "cell_type": "code",
   "execution_count": 15,
   "id": "aba07381",
   "metadata": {},
   "outputs": [],
   "source": [
    "from sklearn.preprocessing import LabelEncoder"
   ]
  },
  {
   "cell_type": "code",
   "execution_count": 16,
   "id": "c64c959e",
   "metadata": {},
   "outputs": [],
   "source": [
    "le = LabelEncoder()\n",
    "\n",
    "encode_columns = ['workclass','marital-status','occupation','relationship','race','sex','country','education']\n",
    "\n",
    "for col in encode_columns:\n",
    "    adult[col] = le.fit_transform(adult[col])"
   ]
  },
  {
   "cell_type": "code",
   "execution_count": 17,
   "id": "0a6a5894",
   "metadata": {},
   "outputs": [],
   "source": [
    "adult['salary'] = adult['salary'].map({\" <=50K\":0,\" >50K\":1})"
   ]
  },
  {
   "cell_type": "code",
   "execution_count": 18,
   "id": "9bac49c9",
   "metadata": {},
   "outputs": [
    {
     "data": {
      "text/html": [
       "<div>\n",
       "<style scoped>\n",
       "    .dataframe tbody tr th:only-of-type {\n",
       "        vertical-align: middle;\n",
       "    }\n",
       "\n",
       "    .dataframe tbody tr th {\n",
       "        vertical-align: top;\n",
       "    }\n",
       "\n",
       "    .dataframe thead th {\n",
       "        text-align: right;\n",
       "    }\n",
       "</style>\n",
       "<table border=\"1\" class=\"dataframe\">\n",
       "  <thead>\n",
       "    <tr style=\"text-align: right;\">\n",
       "      <th></th>\n",
       "      <th>age</th>\n",
       "      <th>workclass</th>\n",
       "      <th>fnlwgt</th>\n",
       "      <th>education</th>\n",
       "      <th>education-num</th>\n",
       "      <th>marital-status</th>\n",
       "      <th>occupation</th>\n",
       "      <th>relationship</th>\n",
       "      <th>race</th>\n",
       "      <th>sex</th>\n",
       "      <th>capital-gain</th>\n",
       "      <th>capital-loss</th>\n",
       "      <th>hours-per-week</th>\n",
       "      <th>country</th>\n",
       "      <th>salary</th>\n",
       "    </tr>\n",
       "  </thead>\n",
       "  <tbody>\n",
       "    <tr>\n",
       "      <th>32556</th>\n",
       "      <td>27</td>\n",
       "      <td>4</td>\n",
       "      <td>257302</td>\n",
       "      <td>7</td>\n",
       "      <td>12</td>\n",
       "      <td>2</td>\n",
       "      <td>13</td>\n",
       "      <td>5</td>\n",
       "      <td>4</td>\n",
       "      <td>0</td>\n",
       "      <td>0</td>\n",
       "      <td>0</td>\n",
       "      <td>38</td>\n",
       "      <td>39</td>\n",
       "      <td>0</td>\n",
       "    </tr>\n",
       "    <tr>\n",
       "      <th>32557</th>\n",
       "      <td>40</td>\n",
       "      <td>4</td>\n",
       "      <td>154374</td>\n",
       "      <td>11</td>\n",
       "      <td>9</td>\n",
       "      <td>2</td>\n",
       "      <td>7</td>\n",
       "      <td>0</td>\n",
       "      <td>4</td>\n",
       "      <td>1</td>\n",
       "      <td>0</td>\n",
       "      <td>0</td>\n",
       "      <td>40</td>\n",
       "      <td>39</td>\n",
       "      <td>1</td>\n",
       "    </tr>\n",
       "    <tr>\n",
       "      <th>32558</th>\n",
       "      <td>58</td>\n",
       "      <td>4</td>\n",
       "      <td>151910</td>\n",
       "      <td>11</td>\n",
       "      <td>9</td>\n",
       "      <td>6</td>\n",
       "      <td>1</td>\n",
       "      <td>4</td>\n",
       "      <td>4</td>\n",
       "      <td>0</td>\n",
       "      <td>0</td>\n",
       "      <td>0</td>\n",
       "      <td>40</td>\n",
       "      <td>39</td>\n",
       "      <td>0</td>\n",
       "    </tr>\n",
       "    <tr>\n",
       "      <th>32559</th>\n",
       "      <td>22</td>\n",
       "      <td>4</td>\n",
       "      <td>201490</td>\n",
       "      <td>11</td>\n",
       "      <td>9</td>\n",
       "      <td>4</td>\n",
       "      <td>1</td>\n",
       "      <td>3</td>\n",
       "      <td>4</td>\n",
       "      <td>1</td>\n",
       "      <td>0</td>\n",
       "      <td>0</td>\n",
       "      <td>20</td>\n",
       "      <td>39</td>\n",
       "      <td>0</td>\n",
       "    </tr>\n",
       "    <tr>\n",
       "      <th>32560</th>\n",
       "      <td>52</td>\n",
       "      <td>5</td>\n",
       "      <td>287927</td>\n",
       "      <td>11</td>\n",
       "      <td>9</td>\n",
       "      <td>2</td>\n",
       "      <td>4</td>\n",
       "      <td>5</td>\n",
       "      <td>4</td>\n",
       "      <td>0</td>\n",
       "      <td>15024</td>\n",
       "      <td>0</td>\n",
       "      <td>40</td>\n",
       "      <td>39</td>\n",
       "      <td>1</td>\n",
       "    </tr>\n",
       "  </tbody>\n",
       "</table>\n",
       "</div>"
      ],
      "text/plain": [
       "       age  workclass  fnlwgt  education  education-num  marital-status  \\\n",
       "32556   27          4  257302          7             12               2   \n",
       "32557   40          4  154374         11              9               2   \n",
       "32558   58          4  151910         11              9               6   \n",
       "32559   22          4  201490         11              9               4   \n",
       "32560   52          5  287927         11              9               2   \n",
       "\n",
       "       occupation  relationship  race  sex  capital-gain  capital-loss  \\\n",
       "32556          13             5     4    0             0             0   \n",
       "32557           7             0     4    1             0             0   \n",
       "32558           1             4     4    0             0             0   \n",
       "32559           1             3     4    1             0             0   \n",
       "32560           4             5     4    0         15024             0   \n",
       "\n",
       "       hours-per-week  country  salary  \n",
       "32556              38       39       0  \n",
       "32557              40       39       1  \n",
       "32558              40       39       0  \n",
       "32559              20       39       0  \n",
       "32560              40       39       1  "
      ]
     },
     "execution_count": 18,
     "metadata": {},
     "output_type": "execute_result"
    }
   ],
   "source": [
    "adult.tail()"
   ]
  },
  {
   "cell_type": "markdown",
   "id": "d0ad6f47",
   "metadata": {},
   "source": [
    "### Correlation Heatmap"
   ]
  },
  {
   "cell_type": "code",
   "execution_count": 19,
   "id": "d84c60d3",
   "metadata": {},
   "outputs": [
    {
     "data": {
      "image/png": "[encoded data removed]",
      "text/plain": [
       "<Figure size 720x576 with 2 Axes>"
      ]
     },
     "metadata": {
      "needs_background": "light"
     },
     "output_type": "display_data"
    }
   ],
   "source": [
    "plt.figure(figsize=(10,8))\n",
    "sns.heatmap(adult.corr(), annot=True, fmt=\".2f\")\n",
    "plt.title(\"Correlation Heatmap\")\n",
    "plt.show()"
   ]
  },
  {
   "cell_type": "markdown",
   "id": "6158a841",
   "metadata": {},
   "source": [
    "### Correlation with Target Variable"
   ]
  },
  {
   "cell_type": "code",
   "execution_count": 20,
   "id": "9a037ab8",
   "metadata": {},
   "outputs": [
    {
     "data": {
      "text/plain": [
       "age               0.234037\n",
       "workclass         0.051665\n",
       "fnlwgt           -0.009502\n",
       "education         0.079366\n",
       "education-num     0.335272\n",
       "marital-status   -0.199199\n",
       "occupation        0.075419\n",
       "relationship     -0.250948\n",
       "race              0.071847\n",
       "sex               0.215969\n",
       "capital-gain      0.223336\n",
       "capital-loss      0.150501\n",
       "hours-per-week    0.229658\n",
       "country           0.015618\n",
       "salary            1.000000\n",
       "Name: salary, dtype: float64"
      ]
     },
     "execution_count": 20,
     "metadata": {},
     "output_type": "execute_result"
    }
   ],
   "source": [
    "adult.corr()['salary']"
   ]
  },
  {
   "cell_type": "markdown",
   "id": "36d6d49f",
   "metadata": {},
   "source": [
    "### Seprating Target Variable"
   ]
  },
  {
   "cell_type": "code",
   "execution_count": 21,
   "id": "f35da9e5",
   "metadata": {},
   "outputs": [],
   "source": [
    "X = adult.drop(['salary'],axis=1)\n",
    "y = adult['salary'].values"
   ]
  },
  {
   "cell_type": "code",
   "execution_count": 22,
   "id": "255b143f",
   "metadata": {},
   "outputs": [],
   "source": [
    "from imblearn.over_sampling import SMOTE\n",
    "\n",
    "smote = SMOTE(sampling_strategy='minority')\n",
    "\n",
    "X, y = smote.fit_resample(X,y)"
   ]
  },
  {
   "cell_type": "markdown",
   "id": "dd1d715e",
   "metadata": {},
   "source": [
    "### Dividing Data into Train Test Split"
   ]
  },
  {
   "cell_type": "code",
   "execution_count": 23,
   "id": "342b557b",
   "metadata": {},
   "outputs": [],
   "source": [
    "from sklearn.model_selection import train_test_split"
   ]
  },
  {
   "cell_type": "code",
   "execution_count": 24,
   "id": "3c49929d",
   "metadata": {},
   "outputs": [],
   "source": [
    "X_train, x_test, Y_train, y_test = train_test_split(X, y, test_size=0.25, random_state=0 )"
   ]
  },
  {
   "cell_type": "markdown",
   "id": "31a69e27",
   "metadata": {},
   "source": [
    "### Scaling Features"
   ]
  },
  {
   "cell_type": "code",
   "execution_count": 25,
   "id": "0b8310e0",
   "metadata": {},
   "outputs": [],
   "source": [
    "from sklearn.preprocessing import StandardScaler\n",
    "\n",
    "scaler = StandardScaler()"
   ]
  },
  {
   "cell_type": "code",
   "execution_count": 26,
   "id": "6b9b80f2",
   "metadata": {},
   "outputs": [],
   "source": [
    "X_train = scaler.fit_transform(X_train)\n",
    "\n",
    "x_test = scaler.transform(x_test)"
   ]
  },
  {
   "cell_type": "markdown",
   "id": "8ffb3f6b",
   "metadata": {},
   "source": [
    "### Note\n",
    "\n",
    "Here, scaling doesn't make any significant difference."
   ]
  },
  {
   "cell_type": "markdown",
   "id": "a48d9502",
   "metadata": {},
   "source": [
    "### Fitting Random Forest Classifier"
   ]
  },
  {
   "cell_type": "code",
   "execution_count": 27,
   "id": "bdd7996c",
   "metadata": {},
   "outputs": [],
   "source": [
    "from sklearn.ensemble import RandomForestClassifier"
   ]
  },
  {
   "cell_type": "code",
   "execution_count": 28,
   "id": "d8887cfe",
   "metadata": {},
   "outputs": [
    {
     "data": {
      "text/plain": [
       "RandomForestClassifier(max_depth=90, n_jobs=500, oob_score=True)"
      ]
     },
     "execution_count": 28,
     "metadata": {},
     "output_type": "execute_result"
    }
   ],
   "source": [
    "clf = RandomForestClassifier(oob_score=True, n_jobs=500,max_depth=90)\n",
    "\n",
    "clf.fit(X_train,Y_train)"
   ]
  },
  {
   "cell_type": "code",
   "execution_count": 29,
   "id": "7e6cf230",
   "metadata": {},
   "outputs": [],
   "source": [
    "y_pred = clf.predict(x_test)"
   ]
  },
  {
   "cell_type": "code",
   "execution_count": 30,
   "id": "7aa37f87",
   "metadata": {},
   "outputs": [],
   "source": [
    "from sklearn.metrics import confusion_matrix, accuracy_score, classification_report"
   ]
  },
  {
   "cell_type": "code",
   "execution_count": 31,
   "id": "454a9b9e",
   "metadata": {},
   "outputs": [
    {
     "name": "stdout",
     "output_type": "stream",
     "text": [
      "Model Accuracy is \u001b[1m89.79%\u001b[0m \n"
     ]
    }
   ],
   "source": [
    "score = accuracy_score(y_test, y_pred) * 100\n",
    "print(\"Model Accuracy is \\033[1m{0:.2f}%\\033[0m \".format(score))"
   ]
  },
  {
   "cell_type": "code",
   "execution_count": 32,
   "id": "9d38e4a5",
   "metadata": {},
   "outputs": [
    {
     "name": "stdout",
     "output_type": "stream",
     "text": [
      "\u001b[1mConfusion Matrix:\u001b[0m\n",
      " [[5607  637]\n",
      " [ 624 5481]]\n"
     ]
    }
   ],
   "source": [
    "cm = confusion_matrix(y_test, y_pred)\n",
    "print(\"\\033[1mConfusion Matrix:\\033[0m\\n\",cm)"
   ]
  },
  {
   "cell_type": "code",
   "execution_count": 33,
   "id": "32b39db5",
   "metadata": {},
   "outputs": [
    {
     "data": {
      "image/png": "[encoded data removed]",
      "text/plain": [
       "<Figure size 432x288 with 2 Axes>"
      ]
     },
     "metadata": {
      "needs_background": "light"
     },
     "output_type": "display_data"
    }
   ],
   "source": [
    "sns.heatmap(cm,annot=True)\n",
    "plt.title(\"Heatmap for Confusion Matrix\")\n",
    "plt.xlabel(\"Actual\")\n",
    "plt.ylabel(\"Predicted\")\n",
    "plt.show()"
   ]
  },
  {
   "cell_type": "code",
   "execution_count": 34,
   "id": "1815e128",
   "metadata": {},
   "outputs": [
    {
     "name": "stdout",
     "output_type": "stream",
     "text": [
      "\u001b[1mClassification Report\u001b[0m\n",
      "\n",
      "               precision    recall  f1-score   support\n",
      "\n",
      "           0       0.90      0.90      0.90      6244\n",
      "           1       0.90      0.90      0.90      6105\n",
      "\n",
      "    accuracy                           0.90     12349\n",
      "   macro avg       0.90      0.90      0.90     12349\n",
      "weighted avg       0.90      0.90      0.90     12349\n",
      "\n"
     ]
    }
   ],
   "source": [
    "print(\"\\033[1mClassification Report\\033[0m\\n\\n\", classification_report(y_test, y_pred))"
   ]
  }
 ],
 "metadata": {
  "kernelspec": {
   "display_name": "Python 3 (ipykernel)",
   "language": "python",
   "name": "python3"
  },
  "language_info": {
   "codemirror_mode": {
    "name": "ipython",
    "version": 3
   },
   "file_extension": ".py",
   "mimetype": "text/x-python",
   "name": "python",
   "nbconvert_exporter": "python",
   "pygments_lexer": "ipython3",
   "version": "3.8.10"
  }
 },
 "nbformat": 4,
 "nbformat_minor": 5
}
